{
 "cells": [
  {
   "cell_type": "markdown",
   "metadata": {},
   "source": [
    "day 3 puzzle 1"
   ]
  },
  {
   "cell_type": "code",
   "execution_count": 12,
   "metadata": {},
   "outputs": [
    {
     "data": {
      "text/plain": [
       "#'user/destructure-line"
      ]
     },
     "execution_count": 12,
     "metadata": {},
     "output_type": "execute_result"
    }
   ],
   "source": [
    "(defn destructure-line [[_ id x-start y-start x-len y-len]]\n",
    "  (let [f #(Integer/parseInt %)\n",
    "        x-start (f x-start)\n",
    "        y-start (f y-start)\n",
    "        x-len (f x-len)\n",
    "        y-len (f y-len)]\n",
    "  {:x-start x-start\n",
    "    :y-start y-start\n",
    "   :x-end (+ x-start x-len)\n",
    "    :y-end (+ y-start y-len)\n",
    "    :x-len x-len\n",
    "    :y-len y-len\n",
    "   :id (f id) }))"
   ]
  },
  {
   "cell_type": "code",
   "execution_count": 13,
   "metadata": {},
   "outputs": [
    {
     "data": {
      "text/plain": [
       "#'user/process-line"
      ]
     },
     "execution_count": 13,
     "metadata": {},
     "output_type": "execute_result"
    }
   ],
   "source": [
    "( defn process-line [line] ( ->> line  (re-matches #\"#(\\d+)\\s@\\s(\\d+),(\\d+):\\s(\\d+)x(\\d+)$\")\n",
    "                           destructure-line))"
   ]
  },
  {
   "cell_type": "code",
   "execution_count": 14,
   "metadata": {},
   "outputs": [
    {
     "data": {
      "text/plain": [
       "#'user/file->blocks"
      ]
     },
     "execution_count": 14,
     "metadata": {},
     "output_type": "execute_result"
    }
   ],
   "source": [
    "(defn file->blocks [my-file-name] (map process-line (clojure.string/split-lines (slurp my-file-name))))"
   ]
  },
  {
   "cell_type": "code",
   "execution_count": 16,
   "metadata": {},
   "outputs": [
    {
     "name": "stdout",
     "output_type": "stream",
     "text": [
      "FileNotFoundException ~/code/personal/advent_of_code_2018/input3.1.txt (No such file or directory)  java.io.FileInputStream.open0 (FileInputStream.java:-2)\n"
     ]
    },
    {
     "ename": "class java.io.FileNotFoundException",
     "evalue": "",
     "execution_count": 16,
     "output_type": "error",
     "status": "error",
     "traceback": [
      "   FileInputStream.java:    -2 java.io.FileInputStream/open0                          ",
      "   FileInputStream.java:   195 java.io.FileInputStream/open                           ",
      "   FileInputStream.java:   138 java.io.FileInputStream/<init>                         ",
      "                 io.clj:   229 clojure.java.io$fn__9520/invokeStatic                  ",
      "                 io.clj:    69 clojure.java.io$fn__9433$G__9426__9440/invoke          ",
      "                 io.clj:   258 clojure.java.io$fn__9532/invokeStatic                  ",
      "                 io.clj:   254 clojure.java.io$fn__9532/invoke                        ",
      "                 io.clj:    69 clojure.java.io$fn__9433$G__9426__9440/invoke          ",
      "                 io.clj:   165 clojure.java.io$fn__9494/invokeStatic                  ",
      "                 io.clj:    69 clojure.java.io$fn__9446$G__9422__9453/invoke          ",
      "                 io.clj:   102 clojure.java.io$reader/invokeStatic                    ",
      "                 io.clj:    86 clojure.java.io$reader/doInvoke                        ",
      "            RestFn.java:   410 clojure.lang.RestFn/invoke                             ",
      "               AFn.java:   154 clojure.lang.AFn/applyToHelper                         ",
      "            RestFn.java:   132 clojure.lang.RestFn/applyTo                            ",
      "               core.clj:   648 clojure.core$apply/invokeStatic                        ",
      "               core.clj:  6657 clojure.core$slurp/invokeStatic                        ",
      "            RestFn.java:   410 clojure.lang.RestFn/invoke                             ",
      "                     []:     1 user$file__GT_blocks/invokeStatic                      ",
      "               core.clj:  3105 clojure.core$eval/invokeStatic                         ",
      "               core.clj:  3101 clojure.core$eval/invoke                               ",
      "               main.clj:   240 clojure.main$repl$read_eval_print__7408$fn__7411/invoke",
      "               main.clj:   258 clojure.main$repl$fn__7417/invoke                      ",
      "               main.clj:   174 clojure.main$repl/doInvoke                             ",
      "            RestFn.java:  1523 clojure.lang.RestFn/invoke                             ",
      "               AFn.java:   152 clojure.lang.AFn/applyToHelper                         ",
      "               AFn.java:   144 clojure.lang.AFn/applyTo                               ",
      "               core.clj:   646 clojure.core$apply/invokeStatic                        ",
      "               core.clj:  1881 clojure.core$with_bindings_STAR_/invokeStatic          ",
      "            RestFn.java:   425 clojure.lang.RestFn/invoke                             ",
      "               AFn.java:    22 clojure.lang.AFn/run                                   ",
      "ThreadPoolExecutor.java:  1149 java.util.concurrent.ThreadPoolExecutor/runWorker      ",
      "ThreadPoolExecutor.java:   624 java.util.concurrent.ThreadPoolExecutor$Worker/run     ",
      "            Thread.java:   748 java.lang.Thread/run                                   "
     ]
    }
   ],
   "source": [
    "(file->blocks \"~/code/personal/advent_of_code_2018/input3.1.txt\")"
   ]
  },
  {
   "cell_type": "code",
   "execution_count": null,
   "metadata": {},
   "outputs": [],
   "source": []
  },
  {
   "cell_type": "code",
   "execution_count": null,
   "metadata": {},
   "outputs": [],
   "source": []
  },
  {
   "cell_type": "code",
   "execution_count": null,
   "metadata": {},
   "outputs": [],
   "source": []
  },
  {
   "cell_type": "code",
   "execution_count": null,
   "metadata": {},
   "outputs": [],
   "source": []
  },
  {
   "cell_type": "code",
   "execution_count": null,
   "metadata": {},
   "outputs": [],
   "source": []
  },
  {
   "cell_type": "code",
   "execution_count": null,
   "metadata": {},
   "outputs": [],
   "source": []
  },
  {
   "cell_type": "markdown",
   "metadata": {},
   "source": [
    "snippets "
   ]
  },
  {
   "cell_type": "code",
   "execution_count": 1,
   "metadata": {},
   "outputs": [
    {
     "data": {
      "text/plain": [
       "#'user/coll"
      ]
     },
     "execution_count": 1,
     "metadata": {},
     "output_type": "execute_result"
    }
   ],
   "source": [
    "(def coll [1 2 nil 3])"
   ]
  },
  {
   "cell_type": "code",
   "execution_count": 2,
   "metadata": {},
   "outputs": [
    {
     "name": "stdout",
     "output_type": "stream",
     "text": [
      "NullPointerException   clojure.lang.Numbers.ops (Numbers.java:1013)\n"
     ]
    },
    {
     "ename": "class java.lang.NullPointerException",
     "evalue": "",
     "execution_count": 2,
     "output_type": "error",
     "status": "error",
     "traceback": [
      "           Numbers.java:  1013 clojure.lang.Numbers/ops                               ",
      "           Numbers.java:   128 clojure.lang.Numbers/add                               ",
      "               core.clj:   973 clojure.core$_PLUS_/invokeStatic                       ",
      "               core.clj:   965 clojure.core$_PLUS_/invoke                             ",
      "  PersistentVector.java:   327 clojure.lang.PersistentVector/reduce                   ",
      "               core.clj:  6540 clojure.core$reduce/invokeStatic                       ",
      "               core.clj:  6527 clojure.core$reduce/invoke                             ",
      "                     []:     1 user$eval5450/invokeStatic                             ",
      "               core.clj:  3105 clojure.core$eval/invokeStatic                         ",
      "               core.clj:  3101 clojure.core$eval/invoke                               ",
      "               main.clj:   240 clojure.main$repl$read_eval_print__7408$fn__7411/invoke",
      "               main.clj:   258 clojure.main$repl$fn__7417/invoke                      ",
      "               main.clj:   174 clojure.main$repl/doInvoke                             ",
      "            RestFn.java:  1523 clojure.lang.RestFn/invoke                             ",
      "               AFn.java:   152 clojure.lang.AFn/applyToHelper                         ",
      "               AFn.java:   144 clojure.lang.AFn/applyTo                               ",
      "               core.clj:   646 clojure.core$apply/invokeStatic                        ",
      "               core.clj:  1881 clojure.core$with_bindings_STAR_/invokeStatic          ",
      "            RestFn.java:   425 clojure.lang.RestFn/invoke                             ",
      "               AFn.java:    22 clojure.lang.AFn/run                                   ",
      "ThreadPoolExecutor.java:  1149 java.util.concurrent.ThreadPoolExecutor/runWorker      ",
      "ThreadPoolExecutor.java:   624 java.util.concurrent.ThreadPoolExecutor$Worker/run     ",
      "            Thread.java:   748 java.lang.Thread/run                                   "
     ]
    }
   ],
   "source": [
    "(reduce + coll)"
   ]
  },
  {
   "cell_type": "code",
   "execution_count": 6,
   "metadata": {},
   "outputs": [
    {
     "data": {
      "text/plain": [
       "#'user/nil-proof"
      ]
     },
     "execution_count": 6,
     "metadata": {},
     "output_type": "execute_result"
    }
   ],
   "source": [
    "(defn nil-proof [f]\n",
    "    (fn [a b] \n",
    "        (if (nil? b)\n",
    "            a\n",
    "            (f a b))))"
   ]
  },
  {
   "cell_type": "code",
   "execution_count": 7,
   "metadata": {},
   "outputs": [
    {
     "data": {
      "text/plain": [
       "6"
      ]
     },
     "execution_count": 7,
     "metadata": {},
     "output_type": "execute_result"
    }
   ],
   "source": [
    "(reduce (nil-proof +) coll)"
   ]
  },
  {
   "cell_type": "code",
   "execution_count": 11,
   "metadata": {},
   "outputs": [
    {
     "data": {
      "text/plain": [
       "6"
      ]
     },
     "execution_count": 11,
     "metadata": {},
     "output_type": "execute_result"
    }
   ],
   "source": [
    "(let [x 3\n",
    "      x ( + x 3)] x\n",
    "    )"
   ]
  },
  {
   "cell_type": "markdown",
   "metadata": {},
   "source": [
    "## Begin"
   ]
  },
  {
   "cell_type": "code",
   "execution_count": 9,
   "metadata": {},
   "outputs": [
    {
     "name": "stdout",
     "output_type": "stream",
     "text": [
      "FileNotFoundException ./smalltest.txt (No such file or directory)  java.io.FileInputStream.open0 (FileInputStream.java:-2)\n"
     ]
    },
    {
     "ename": "class java.io.FileNotFoundException",
     "evalue": "",
     "execution_count": 9,
     "output_type": "error",
     "status": "error",
     "traceback": [
      "   FileInputStream.java:    -2 java.io.FileInputStream/open0                          ",
      "   FileInputStream.java:   195 java.io.FileInputStream/open                           ",
      "   FileInputStream.java:   138 java.io.FileInputStream/<init>                         ",
      "                 io.clj:   229 clojure.java.io$fn__9520/invokeStatic                  ",
      "                 io.clj:    69 clojure.java.io$fn__9433$G__9426__9440/invoke          ",
      "                 io.clj:   258 clojure.java.io$fn__9532/invokeStatic                  ",
      "                 io.clj:   254 clojure.java.io$fn__9532/invoke                        ",
      "                 io.clj:    69 clojure.java.io$fn__9433$G__9426__9440/invoke          ",
      "                 io.clj:   165 clojure.java.io$fn__9494/invokeStatic                  ",
      "                 io.clj:    69 clojure.java.io$fn__9446$G__9422__9453/invoke          ",
      "                 io.clj:   102 clojure.java.io$reader/invokeStatic                    ",
      "                 io.clj:    86 clojure.java.io$reader/doInvoke                        ",
      "            RestFn.java:   410 clojure.lang.RestFn/invoke                             ",
      "               AFn.java:   154 clojure.lang.AFn/applyToHelper                         ",
      "            RestFn.java:   132 clojure.lang.RestFn/applyTo                            ",
      "               core.clj:   648 clojure.core$apply/invokeStatic                        ",
      "               core.clj:  6657 clojure.core$slurp/invokeStatic                        ",
      "            RestFn.java:   410 clojure.lang.RestFn/invoke                             ",
      "                     []:     1 user$eval5466/invokeStatic                             ",
      "               core.clj:  3105 clojure.core$eval/invokeStatic                         ",
      "               core.clj:  3101 clojure.core$eval/invoke                               ",
      "               main.clj:   240 clojure.main$repl$read_eval_print__7408$fn__7411/invoke",
      "               main.clj:   258 clojure.main$repl$fn__7417/invoke                      ",
      "               main.clj:   174 clojure.main$repl/doInvoke                             ",
      "            RestFn.java:  1523 clojure.lang.RestFn/invoke                             ",
      "               AFn.java:   152 clojure.lang.AFn/applyToHelper                         ",
      "               AFn.java:   144 clojure.lang.AFn/applyTo                               ",
      "               core.clj:   646 clojure.core$apply/invokeStatic                        ",
      "               core.clj:  1881 clojure.core$with_bindings_STAR_/invokeStatic          ",
      "            RestFn.java:   425 clojure.lang.RestFn/invoke                             ",
      "               AFn.java:    22 clojure.lang.AFn/run                                   ",
      "ThreadPoolExecutor.java:  1149 java.util.concurrent.ThreadPoolExecutor/runWorker      ",
      "ThreadPoolExecutor.java:   624 java.util.concurrent.ThreadPoolExecutor$Worker/run     ",
      "            Thread.java:   748 java.lang.Thread/run                                   "
     ]
    }
   ],
   "source": [
    "(slurp \"~code/personal/advent/smalltest.txt\")"
   ]
  },
  {
   "cell_type": "code",
   "execution_count": 10,
   "metadata": {},
   "outputs": [
    {
     "name": "stdout",
     "output_type": "stream",
     "text": [
      "CompilerException java.lang.RuntimeException: Unable to resolve symbol: ls in this context, compiling:(null:1:1) \n"
     ]
    },
    {
     "ename": "class clojure.lang.Compiler$CompilerException",
     "evalue": "",
     "execution_count": 10,
     "output_type": "error",
     "status": "error",
     "traceback": [
      "              Util.java:   221 clojure.lang.Util/runtimeException                     ",
      "               core.clj:  3105 clojure.core$eval/invokeStatic                         ",
      "               core.clj:  3101 clojure.core$eval/invoke                               ",
      "               main.clj:   240 clojure.main$repl$read_eval_print__7408$fn__7411/invoke",
      "               main.clj:   258 clojure.main$repl$fn__7417/invoke                      ",
      "               main.clj:   174 clojure.main$repl/doInvoke                             ",
      "            RestFn.java:  1523 clojure.lang.RestFn/invoke                             ",
      "               AFn.java:   152 clojure.lang.AFn/applyToHelper                         ",
      "               AFn.java:   144 clojure.lang.AFn/applyTo                               ",
      "               core.clj:   646 clojure.core$apply/invokeStatic                        ",
      "               core.clj:  1881 clojure.core$with_bindings_STAR_/invokeStatic          ",
      "            RestFn.java:   425 clojure.lang.RestFn/invoke                             ",
      "               AFn.java:    22 clojure.lang.AFn/run                                   ",
      "ThreadPoolExecutor.java:  1149 java.util.concurrent.ThreadPoolExecutor/runWorker      ",
      "ThreadPoolExecutor.java:   624 java.util.concurrent.ThreadPoolExecutor$Worker/run     ",
      "            Thread.java:   748 java.lang.Thread/run                                   "
     ]
    }
   ],
   "source": [
    "(ls)"
   ]
  },
  {
   "cell_type": "code",
   "execution_count": null,
   "metadata": {},
   "outputs": [],
   "source": []
  },
  {
   "cell_type": "code",
   "execution_count": null,
   "metadata": {},
   "outputs": [],
   "source": []
  },
  {
   "cell_type": "code",
   "execution_count": null,
   "metadata": {},
   "outputs": [],
   "source": []
  },
  {
   "cell_type": "code",
   "execution_count": null,
   "metadata": {},
   "outputs": [],
   "source": []
  }
 ],
 "metadata": {
  "kernelspec": {
   "display_name": "Clojure",
   "language": "clojure",
   "name": "clojure"
  },
  "language_info": {
   "file_extension": ".clj",
   "mimetype": "text/x-clojure",
   "name": "clojure",
   "version": "1.8.0"
  }
 },
 "nbformat": 4,
 "nbformat_minor": 2
}
