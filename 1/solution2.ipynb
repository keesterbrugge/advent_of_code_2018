{
 "cells": [
  {
   "cell_type": "code",
   "execution_count": null,
   "metadata": {},
   "outputs": [],
   "source": [
    " (def input (map #(Integer/parseInt %) (clojure.string/split-lines (slurp \"../1/input.txt\"))))"
   ]
  },
  {
   "cell_type": "code",
   "execution_count": null,
   "metadata": {},
   "outputs": [],
   "source": [
    "(defn seen-first-twice [lazy-numbers]\n",
    "    (loop [lazy-numbers lazy-numbers seen #{0} sum 0]\n",
    "        (let [new-sum (+ sum (first lazy-numbers))]\n",
    "            (if (contains? seen new-sum)\n",
    "                new-sum\n",
    "                (recur (rest lazy-numbers) (conj seen new-sum) new-sum)))))\n",
    "    \n",
    "(println (seen-first-twice (cycle [3 3 4 -2 -4])))  ; => 10\n",
    "(println (seen-first-twice (cycle [7 7 -2 -7 -4]))) ; => 14\n",
    "(println (seen-first-twice (cycle input)))          ; => 73364"
   ]
  }
 ],
 "metadata": {
  "kernelspec": {
   "display_name": "Clojure",
   "language": "clojure",
   "name": "clojure"
  },
  "language_info": {
   "file_extension": ".clj",
   "mimetype": "text/x-clojure",
   "name": "clojure",
   "version": "1.8.0"
  }
 },
 "nbformat": 4,
 "nbformat_minor": 2
}
