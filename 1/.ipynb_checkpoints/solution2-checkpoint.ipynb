{
 "cells": [
  {
   "cell_type": "code",
   "execution_count": 22,
   "metadata": {},
   "outputs": [
    {
     "data": {
      "text/plain": [
       "#'user/input"
      ]
     },
     "execution_count": 22,
     "metadata": {},
     "output_type": "execute_result"
    }
   ],
   "source": [
    " (def input (map #(Integer/parseInt %) (clojure.string/split-lines (slurp \"../1/input.txt\"))))"
   ]
  },
  {
   "cell_type": "code",
   "execution_count": 33,
   "metadata": {},
   "outputs": [
    {
     "name": "stdout",
     "output_type": "stream",
     "text": [
      "10\n",
      "14\n",
      "73364\n"
     ]
    }
   ],
   "source": [
    "(defn seen-first-twice [lazy-numbers]\n",
    "    (loop [lazy-numbers lazy-numbers seen #{0} sum 0]\n",
    "        (let [new-sum (+ sum (first lazy-numbers))]\n",
    "            (if (contains? seen new-sum)\n",
    "                new-sum\n",
    "                (recur (rest lazy-numbers) (conj seen new-sum) new-sum)))))\n",
    "    \n",
    "(println (seen-first-twice (cycle [3 3 4 -2 -4])))  ; => 10\n",
    "(println (seen-first-twice (cycle [7 7 -2 -7 -4]))) ; => 14\n",
    "(println (seen-first-twice (cycle input)))          ; => 73364"
   ]
  },
  {
   "cell_type": "code",
   "execution_count": 34,
   "metadata": {},
   "outputs": [
    {
     "ename": "interrupted",
     "evalue": "",
     "execution_count": 34,
     "output_type": "error",
     "status": "error",
     "traceback": [
      "               AFn.java:   429 clojure.lang.AFn/throwArity                            ",
      "               AFn.java:    40 clojure.lang.AFn/invoke                                ",
      "                     []:    10 user$eval5547/invokeStatic                             ",
      "               core.clj:  3105 clojure.core$eval/invokeStatic                         ",
      "               core.clj:  3101 clojure.core$eval/invoke                               ",
      "               main.clj:   240 clojure.main$repl$read_eval_print__7408$fn__7411/invoke",
      "               main.clj:   258 clojure.main$repl$fn__7417/invoke                      ",
      "               main.clj:   174 clojure.main$repl/doInvoke                             ",
      "            RestFn.java:  1523 clojure.lang.RestFn/invoke                             ",
      "               AFn.java:   152 clojure.lang.AFn/applyToHelper                         ",
      "               AFn.java:   144 clojure.lang.AFn/applyTo                               ",
      "               core.clj:   646 clojure.core$apply/invokeStatic                        ",
      "               core.clj:  1881 clojure.core$with_bindings_STAR_/invokeStatic          ",
      "            RestFn.java:   425 clojure.lang.RestFn/invoke                             ",
      "               AFn.java:    22 clojure.lang.AFn/run                                   ",
      "ThreadPoolExecutor.java:  1149 java.util.concurrent.ThreadPoolExecutor/runWorker      ",
      "ThreadPoolExecutor.java:   624 java.util.concurrent.ThreadPoolExecutor$Worker/run     ",
      "            Thread.java:   748 java.lang.Thread/run                                   "
     ]
    }
   ],
   "source": [
    "(take 5 (reduce + 0 (cycle input)))"
   ]
  },
  {
   "cell_type": "code",
   "execution_count": null,
   "metadata": {},
   "outputs": [],
   "source": [
    "(defn acc-input [input sum]\n",
    "    (cons (+ sum (first input)) \n",
    "          (lazy-seq (acc-input (rest input) \n",
    "                     (+ sum (first input)) ))))\n",
    "\n",
    "\n",
    "(print (take 5 (acc-input (cycle input) 0)))"
   ]
  },
  {
   "cell_type": "code",
   "execution_count": null,
   "metadata": {},
   "outputs": [],
   "source": [
    "(first (acc-input (cycle input) 0))"
   ]
  },
  {
   "cell_type": "code",
   "execution_count": null,
   "metadata": {},
   "outputs": [],
   "source": [
    "(defn my-repeat [x]\n",
    "    (cons x (lazy-seq (my-repeat x))))\n",
    "\n",
    "(println (take 2 (my-repeat 3)))"
   ]
  },
  {
   "cell_type": "code",
   "execution_count": null,
   "metadata": {},
   "outputs": [],
   "source": [
    "(defn my-repeat [x]\n",
    "    (cons x (lazy-seq (my-repeat x))))\n",
    "\n",
    "(println (take 2 (my-repeat 3)))"
   ]
  },
  {
   "cell_type": "code",
   "execution_count": null,
   "metadata": {},
   "outputs": [],
   "source": []
  }
 ],
 "metadata": {
  "kernelspec": {
   "display_name": "Clojure",
   "language": "clojure",
   "name": "clojure"
  },
  "language_info": {
   "file_extension": ".clj",
   "mimetype": "text/x-clojure",
   "name": "clojure",
   "version": "1.8.0"
  }
 },
 "nbformat": 4,
 "nbformat_minor": 2
}
